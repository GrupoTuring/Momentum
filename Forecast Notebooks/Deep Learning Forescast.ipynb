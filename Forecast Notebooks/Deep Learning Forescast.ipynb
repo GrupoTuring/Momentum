{
 "cells": [
  {
   "cell_type": "code",
   "execution_count": 1,
   "metadata": {},
   "outputs": [
    {
     "name": "stderr",
     "output_type": "stream",
     "text": [
      "Using TensorFlow backend.\n"
     ]
    }
   ],
   "source": [
    "import pandas as pd\n",
    "import numpy as np\n",
    "import matplotlib.pyplot as plt\n",
    "\n",
    "import tensorflow as tf\n",
    "from tensorflow import keras\n",
    "from keras.models import Sequential\n",
    "from keras.layers import Dense, Dropout, LSTM, Lambda"
   ]
  },
  {
   "cell_type": "code",
   "execution_count": 2,
   "metadata": {},
   "outputs": [],
   "source": [
    "def import_data(csv): \n",
    "    \n",
    "    df = pd.read_csv(csv)\n",
    "    df.index = pd.to_datetime(df['date'], format='%Y-%m-%d')\n",
    "    df = df.drop('date', axis=1)\n",
    "    \n",
    "    close_columns = []\n",
    "    high_columns = []\n",
    "    low_columns = []\n",
    "    open_columns = []\n",
    "    volume_columns = []\n",
    "    open_int_columns = []\n",
    "\n",
    "    for i in df.columns:\n",
    "        if \"close\" in i:\n",
    "            close_columns.append(i)\n",
    "        elif \"high\" in i:\n",
    "            high_columns.append(i)\n",
    "        elif \"low\" in i:\n",
    "            low_columns.append(i)\n",
    "        elif \"open_int\" in i:\n",
    "            open_int_columns.append(i)\n",
    "        elif \"open\" in i:\n",
    "            open_columns.append(i)\n",
    "        elif \"volume\" in i:\n",
    "            volume_columns.append(i)\n",
    "\n",
    "    close_df = df[close_columns]\n",
    "    high_df = df[high_columns]\n",
    "    low_df = df[low_columns]\n",
    "    open_df = df[open_columns]\n",
    "    volume_df = df[volume_columns]\n",
    "    open_int_df = df[open_int_columns]\n",
    "    \n",
    "    return [close_df, high_df, low_df, open_df, volume_df, open_int_df]\n",
    "\n",
    "def garman_klass_vol(high_df, low_df, close_df, open_df, period=60):\n",
    "    \"\"\"\n",
    "    Estima a volatilidade a partir dos seguintes preços: alta, baixa, abertura e fechamento\n",
    "    \"\"\"\n",
    "    # Calculando parcelas internas da somatoria\n",
    "    x_hl = (1/2)*(np.log(np.divide(high_df, low_df))) ** 2\n",
    "    x_co = - (2 * np.log(2) - 1)* (np.log(np.divide(close_df, open_df))**2)\n",
    "    \n",
    "    # Somando parcelas calculadas\n",
    "    x = x_hl + x_co.values\n",
    "    \n",
    "    x.columns = [x[0:3] + \"gk\" for x in x.columns]\n",
    "    \n",
    "    # Criando dataframe para atribuir as volatilidades\n",
    "    gk = x.copy()\n",
    "    \n",
    "    # Termo constante fora da somatoria (Considerando vol diaria)\n",
    "    const = 1/period\n",
    "    \n",
    "    # Atribuindo not a number, para os valores iniciais\n",
    "    gk.iloc[:period,:] = np.nan\n",
    "    \n",
    "    # iteração do centro de massa da vol\n",
    "    for row in range(period, len(high_df)):\n",
    "        gk.iloc[row] = np.sqrt(const * np.sum(x.iloc[row-period:row,:]))\n",
    "        \n",
    "    return gk\n",
    "\n",
    "def parkinson_vol(high_df, low_df, period=60):\n",
    "    \"\"\"\n",
    "    Estimando a volatilidade a partir dos preço de Alta e de Baixa\n",
    "    \"\"\"\n",
    "    \n",
    "    # Calculando parcela interna da somatoria\n",
    "    x = np.log(np.divide(high_df, low_df)) ** 2\n",
    "    x.columns = [x[0:3] + \"pv\" for x in x.columns]\n",
    "    \n",
    "    # Criando dataframe para atribuir as volatilidades\n",
    "    pv = x.copy()\n",
    "    \n",
    "    # Termo constante fora da somatoria (Considerando vol diaria)\n",
    "    const = 1 / (4 * period * np.log(2))\n",
    "    \n",
    "    # Atribuindo not a number, para os valores iniciais\n",
    "    pv.iloc[:period,:] = np.nan\n",
    "        \n",
    "    # iteração do centro de massa da vol\n",
    "    for row in range(period, len(high_df)):\n",
    "        pv.iloc[row] = np.sqrt(const * np.sum(x.iloc[row-period:row,:]))\n",
    "        \n",
    "    return pv\n",
    "\n",
    "def monthly_volume(volume, period=20):\n",
    "    \n",
    "    daily_volume = volume.copy()\n",
    "    \n",
    "    for row in range(period, len(volume)):\n",
    "        daily_volume.iloc[row] = volume.iloc[row-period:row,:].cumsum().iloc[-1]\n",
    "        \n",
    "    monthly_volume = daily_volume.resample(\"BM\").last().ffill()\n",
    "    \n",
    "    return monthly_volume\n",
    "\n",
    "def train_test(stock):\n",
    "    train = pd.DataFrame()\n",
    "\n",
    "    train[\"Returns Monthly\"] = returns_monthly.iloc[:,stock]\n",
    "    train[\"EWMA\"] = vol_monthly.iloc[:,stock]\n",
    "    train[\"Parkinson\"] = pv_monthly.iloc[:,stock]\n",
    "    train[\"Garman-Klass\"] = gk_monthly.iloc[:,stock]\n",
    "    train[\"Monthly Volume\"] = monthly_volume.iloc[:,stock]\n",
    "\n",
    "    prices = close_df.iloc[:,stock]\n",
    "\n",
    "    for lag in [3, 6, 9, 12]:\n",
    "        train[\"Momentum \" + str(lag)] = prices.pct_change(lag * 21)\n",
    "\n",
    "    target = train[\"Returns Monthly\"].shift(-1)\n",
    "    \n",
    "    features = train.dropna()\n",
    "    target = target.dropna().loc['2000-07-31':]\n",
    "    \n",
    "    return (features, target)"
   ]
  },
  {
   "cell_type": "code",
   "execution_count": 3,
   "metadata": {},
   "outputs": [],
   "source": [
    "close_df, high_df, low_df, open_df, volume_df, open_int_df = import_data(\"../data.csv\")\n",
    "\n",
    "# Retornos diários\n",
    "returns_daily = close_df.pct_change().fillna(0)\n",
    "\n",
    "# Retornos mensais\n",
    "returns_monthly = close_df.pct_change(20).fillna(0).resample('BM').last().ffill()\n",
    "\n",
    "# Vol diária\n",
    "vol_daily = returns_daily.ewm(adjust=True, com=60, min_periods=0).std().dropna()\n",
    "\n",
    "# Vol de 261 dias, apenas o último dia de cada mês\n",
    "vol_monthly = (np.sqrt(261)*vol_daily).resample('BM').last().ffill()\n",
    "\n",
    "pv_df = parkinson_vol(high_df, low_df)\n",
    "pv_monthly = (np.sqrt(261)*pv_df).resample('BM').last().ffill()\n",
    "\n",
    "gk_df = garman_klass_vol(high_df, low_df, close_df, open_df)\n",
    "gk_monthly = (np.sqrt(261)*gk_df).resample('BM').last().ffill()\n",
    "\n",
    "monthly_volume = monthly_volume(volume_df)\n",
    "\n",
    "feature, target = train_test(1)"
   ]
  },
  {
   "cell_type": "code",
   "execution_count": 4,
   "metadata": {},
   "outputs": [
    {
     "data": {
      "text/html": [
       "<div>\n",
       "<style scoped>\n",
       "    .dataframe tbody tr th:only-of-type {\n",
       "        vertical-align: middle;\n",
       "    }\n",
       "\n",
       "    .dataframe tbody tr th {\n",
       "        vertical-align: top;\n",
       "    }\n",
       "\n",
       "    .dataframe thead th {\n",
       "        text-align: right;\n",
       "    }\n",
       "</style>\n",
       "<table border=\"1\" class=\"dataframe\">\n",
       "  <thead>\n",
       "    <tr style=\"text-align: right;\">\n",
       "      <th></th>\n",
       "      <th>Returns Monthly</th>\n",
       "      <th>EWMA</th>\n",
       "      <th>Parkinson</th>\n",
       "      <th>Garman-Klass</th>\n",
       "      <th>Monthly Volume</th>\n",
       "      <th>Momentum 3</th>\n",
       "      <th>Momentum 6</th>\n",
       "      <th>Momentum 9</th>\n",
       "      <th>Momentum 12</th>\n",
       "    </tr>\n",
       "    <tr>\n",
       "      <th>date</th>\n",
       "      <th></th>\n",
       "      <th></th>\n",
       "      <th></th>\n",
       "      <th></th>\n",
       "      <th></th>\n",
       "      <th></th>\n",
       "      <th></th>\n",
       "      <th></th>\n",
       "      <th></th>\n",
       "    </tr>\n",
       "  </thead>\n",
       "  <tbody>\n",
       "    <tr>\n",
       "      <th>2000-07-31</th>\n",
       "      <td>-0.013500</td>\n",
       "      <td>0.081672</td>\n",
       "      <td>0.090117</td>\n",
       "      <td>0.087723</td>\n",
       "      <td>135249.0</td>\n",
       "      <td>-0.051498</td>\n",
       "      <td>-0.084389</td>\n",
       "      <td>-0.095780</td>\n",
       "      <td>-0.052628</td>\n",
       "    </tr>\n",
       "    <tr>\n",
       "      <th>2000-08-31</th>\n",
       "      <td>-0.031493</td>\n",
       "      <td>0.076585</td>\n",
       "      <td>0.078957</td>\n",
       "      <td>0.080442</td>\n",
       "      <td>137686.0</td>\n",
       "      <td>-0.025209</td>\n",
       "      <td>-0.094248</td>\n",
       "      <td>-0.106080</td>\n",
       "      <td>-0.107423</td>\n",
       "    </tr>\n",
       "    <tr>\n",
       "      <th>2000-09-29</th>\n",
       "      <td>0.010879</td>\n",
       "      <td>0.095101</td>\n",
       "      <td>0.092941</td>\n",
       "      <td>0.094567</td>\n",
       "      <td>227772.0</td>\n",
       "      <td>-0.017524</td>\n",
       "      <td>-0.063966</td>\n",
       "      <td>-0.096061</td>\n",
       "      <td>-0.084917</td>\n",
       "    </tr>\n",
       "    <tr>\n",
       "      <th>2000-10-31</th>\n",
       "      <td>-0.010391</td>\n",
       "      <td>0.097895</td>\n",
       "      <td>0.104744</td>\n",
       "      <td>0.107019</td>\n",
       "      <td>101142.0</td>\n",
       "      <td>-0.045012</td>\n",
       "      <td>-0.090034</td>\n",
       "      <td>-0.116647</td>\n",
       "      <td>-0.124354</td>\n",
       "    </tr>\n",
       "    <tr>\n",
       "      <th>2000-11-30</th>\n",
       "      <td>-0.019273</td>\n",
       "      <td>0.092711</td>\n",
       "      <td>0.111326</td>\n",
       "      <td>0.112521</td>\n",
       "      <td>92974.0</td>\n",
       "      <td>-0.043417</td>\n",
       "      <td>-0.050007</td>\n",
       "      <td>-0.119602</td>\n",
       "      <td>-0.133054</td>\n",
       "    </tr>\n",
       "  </tbody>\n",
       "</table>\n",
       "</div>"
      ],
      "text/plain": [
       "            Returns Monthly      EWMA  Parkinson  Garman-Klass  \\\n",
       "date                                                             \n",
       "2000-07-31        -0.013500  0.081672   0.090117      0.087723   \n",
       "2000-08-31        -0.031493  0.076585   0.078957      0.080442   \n",
       "2000-09-29         0.010879  0.095101   0.092941      0.094567   \n",
       "2000-10-31        -0.010391  0.097895   0.104744      0.107019   \n",
       "2000-11-30        -0.019273  0.092711   0.111326      0.112521   \n",
       "\n",
       "            Monthly Volume  Momentum 3  Momentum 6  Momentum 9  Momentum 12  \n",
       "date                                                                         \n",
       "2000-07-31        135249.0   -0.051498   -0.084389   -0.095780    -0.052628  \n",
       "2000-08-31        137686.0   -0.025209   -0.094248   -0.106080    -0.107423  \n",
       "2000-09-29        227772.0   -0.017524   -0.063966   -0.096061    -0.084917  \n",
       "2000-10-31        101142.0   -0.045012   -0.090034   -0.116647    -0.124354  \n",
       "2000-11-30         92974.0   -0.043417   -0.050007   -0.119602    -0.133054  "
      ]
     },
     "execution_count": 4,
     "metadata": {},
     "output_type": "execute_result"
    }
   ],
   "source": [
    "feature.head()"
   ]
  },
  {
   "cell_type": "code",
   "execution_count": 5,
   "metadata": {},
   "outputs": [],
   "source": [
    "model = Sequential()\n",
    "\n",
    "model.add(Dense(200, input_shape=(9,), activation=\"sigmoid\"))\n",
    "\n",
    "model.add(Dense(100, activation=\"sigmoid\"))\n",
    "\n",
    "model.add(Dense(20, activation=\"sigmoid\"))\n",
    "\n",
    "model.add(Dense(1))\n",
    "\n",
    "opt = keras.optimizers.Adam(learning_rate=0.0001)\n",
    "\n",
    "model.compile(loss=\"binary_crossentropy\", optimizer=opt)"
   ]
  },
  {
   "cell_type": "code",
   "execution_count": 6,
   "metadata": {},
   "outputs": [
    {
     "name": "stdout",
     "output_type": "stream",
     "text": [
      "Epoch 1/20\n",
      "180/180 [==============================] - 1s 4ms/step - loss: 0.5262\n",
      "Epoch 2/20\n",
      "180/180 [==============================] - 0s 57us/step - loss: 0.3874\n",
      "Epoch 3/20\n",
      "180/180 [==============================] - 0s 55us/step - loss: 0.2688\n",
      "Epoch 4/20\n",
      "180/180 [==============================] - 0s 55us/step - loss: 0.1675\n",
      "Epoch 5/20\n",
      "180/180 [==============================] - 0s 89us/step - loss: 0.0798\n",
      "Epoch 6/20\n",
      "180/180 [==============================] - 0s 72us/step - loss: 0.0270\n",
      "Epoch 7/20\n",
      "180/180 [==============================] - 0s 61us/step - loss: 0.0270\n",
      "Epoch 8/20\n",
      "180/180 [==============================] - 0s 78us/step - loss: 0.0270\n",
      "Epoch 9/20\n",
      "180/180 [==============================] - 0s 78us/step - loss: 0.0270\n",
      "Epoch 10/20\n",
      "180/180 [==============================] - 0s 66us/step - loss: 0.0270\n",
      "Epoch 11/20\n",
      "180/180 [==============================] - 0s 61us/step - loss: 0.0270\n",
      "Epoch 12/20\n",
      "180/180 [==============================] - 0s 55us/step - loss: 0.0270\n",
      "Epoch 13/20\n",
      "180/180 [==============================] - 0s 55us/step - loss: 0.0270\n",
      "Epoch 14/20\n",
      "180/180 [==============================] - 0s 50us/step - loss: 0.0270\n",
      "Epoch 15/20\n",
      "180/180 [==============================] - 0s 55us/step - loss: 0.0270\n",
      "Epoch 16/20\n",
      "180/180 [==============================] - 0s 55us/step - loss: 0.0270\n",
      "Epoch 17/20\n",
      "180/180 [==============================] - 0s 55us/step - loss: 0.0270\n",
      "Epoch 18/20\n",
      "180/180 [==============================] - 0s 55us/step - loss: 0.0270\n",
      "Epoch 19/20\n",
      "180/180 [==============================] - 0s 50us/step - loss: 0.0270\n",
      "Epoch 20/20\n",
      "180/180 [==============================] - 0s 50us/step - loss: 0.0270\n"
     ]
    },
    {
     "data": {
      "text/plain": [
       "<keras.callbacks.callbacks.History at 0x2b20ddd0908>"
      ]
     },
     "execution_count": 6,
     "metadata": {},
     "output_type": "execute_result"
    }
   ],
   "source": [
    "model.fit(feature[:180], target[:180], epochs=20)"
   ]
  },
  {
   "cell_type": "code",
   "execution_count": 44,
   "metadata": {},
   "outputs": [],
   "source": [
    "def timeseries_to_supervised(data, lag=12):\n",
    "    df = pd.DataFrame(data)\n",
    "    columns = [df.pct_change(i) for i in range(1, lag*20, 10)]\n",
    "    columns.append(df)\n",
    "    df = pd.concat(columns, axis=1)\n",
    "    return df"
   ]
  },
  {
   "cell_type": "code",
   "execution_count": 55,
   "metadata": {},
   "outputs": [
    {
     "data": {
      "text/html": [
       "<div>\n",
       "<style scoped>\n",
       "    .dataframe tbody tr th:only-of-type {\n",
       "        vertical-align: middle;\n",
       "    }\n",
       "\n",
       "    .dataframe tbody tr th {\n",
       "        vertical-align: top;\n",
       "    }\n",
       "\n",
       "    .dataframe thead th {\n",
       "        text-align: right;\n",
       "    }\n",
       "</style>\n",
       "<table border=\"1\" class=\"dataframe\">\n",
       "  <thead>\n",
       "    <tr style=\"text-align: right;\">\n",
       "      <th></th>\n",
       "      <th>BN_close</th>\n",
       "      <th>BN_close</th>\n",
       "      <th>BN_close</th>\n",
       "      <th>BN_close</th>\n",
       "      <th>BN_close</th>\n",
       "      <th>BN_close</th>\n",
       "      <th>BN_close</th>\n",
       "      <th>BN_close</th>\n",
       "      <th>BN_close</th>\n",
       "      <th>BN_close</th>\n",
       "      <th>...</th>\n",
       "      <th>BN_close</th>\n",
       "      <th>BN_close</th>\n",
       "      <th>BN_close</th>\n",
       "      <th>BN_close</th>\n",
       "      <th>BN_close</th>\n",
       "      <th>BN_close</th>\n",
       "      <th>BN_close</th>\n",
       "      <th>BN_close</th>\n",
       "      <th>BN_close</th>\n",
       "      <th>BN_close</th>\n",
       "    </tr>\n",
       "    <tr>\n",
       "      <th>date</th>\n",
       "      <th></th>\n",
       "      <th></th>\n",
       "      <th></th>\n",
       "      <th></th>\n",
       "      <th></th>\n",
       "      <th></th>\n",
       "      <th></th>\n",
       "      <th></th>\n",
       "      <th></th>\n",
       "      <th></th>\n",
       "      <th></th>\n",
       "      <th></th>\n",
       "      <th></th>\n",
       "      <th></th>\n",
       "      <th></th>\n",
       "      <th></th>\n",
       "      <th></th>\n",
       "      <th></th>\n",
       "      <th></th>\n",
       "      <th></th>\n",
       "      <th></th>\n",
       "    </tr>\n",
       "  </thead>\n",
       "  <tbody>\n",
       "    <tr>\n",
       "      <th>2000-06-20</th>\n",
       "      <td>0.003662</td>\n",
       "      <td>0.008389</td>\n",
       "      <td>0.016768</td>\n",
       "      <td>-0.026428</td>\n",
       "      <td>-0.044285</td>\n",
       "      <td>-0.048598</td>\n",
       "      <td>-0.034862</td>\n",
       "      <td>-0.042749</td>\n",
       "      <td>-0.048003</td>\n",
       "      <td>-0.063038</td>\n",
       "      <td>...</td>\n",
       "      <td>-0.087495</td>\n",
       "      <td>-0.081193</td>\n",
       "      <td>-0.067882</td>\n",
       "      <td>-0.055157</td>\n",
       "      <td>-0.060984</td>\n",
       "      <td>-0.058856</td>\n",
       "      <td>-0.043217</td>\n",
       "      <td>-0.027602</td>\n",
       "      <td>-0.046479</td>\n",
       "      <td>137.04</td>\n",
       "    </tr>\n",
       "    <tr>\n",
       "      <th>2000-06-21</th>\n",
       "      <td>-0.013135</td>\n",
       "      <td>-0.013926</td>\n",
       "      <td>0.010838</td>\n",
       "      <td>-0.040307</td>\n",
       "      <td>-0.056377</td>\n",
       "      <td>-0.061485</td>\n",
       "      <td>-0.049213</td>\n",
       "      <td>-0.049680</td>\n",
       "      <td>-0.067310</td>\n",
       "      <td>-0.072364</td>\n",
       "      <td>...</td>\n",
       "      <td>-0.093930</td>\n",
       "      <td>-0.092410</td>\n",
       "      <td>-0.086772</td>\n",
       "      <td>-0.075282</td>\n",
       "      <td>-0.066022</td>\n",
       "      <td>-0.068467</td>\n",
       "      <td>-0.051812</td>\n",
       "      <td>-0.033586</td>\n",
       "      <td>-0.053538</td>\n",
       "      <td>135.24</td>\n",
       "    </tr>\n",
       "    <tr>\n",
       "      <th>2000-06-22</th>\n",
       "      <td>0.010278</td>\n",
       "      <td>-0.005387</td>\n",
       "      <td>0.019171</td>\n",
       "      <td>-0.017616</td>\n",
       "      <td>-0.044011</td>\n",
       "      <td>-0.050191</td>\n",
       "      <td>-0.037478</td>\n",
       "      <td>-0.041597</td>\n",
       "      <td>-0.058438</td>\n",
       "      <td>-0.062509</td>\n",
       "      <td>...</td>\n",
       "      <td>-0.079747</td>\n",
       "      <td>-0.086698</td>\n",
       "      <td>-0.079189</td>\n",
       "      <td>-0.074636</td>\n",
       "      <td>-0.051839</td>\n",
       "      <td>-0.063793</td>\n",
       "      <td>-0.049332</td>\n",
       "      <td>-0.029754</td>\n",
       "      <td>-0.048736</td>\n",
       "      <td>136.63</td>\n",
       "    </tr>\n",
       "    <tr>\n",
       "      <th>2000-06-23</th>\n",
       "      <td>-0.007173</td>\n",
       "      <td>-0.005717</td>\n",
       "      <td>0.017706</td>\n",
       "      <td>-0.016102</td>\n",
       "      <td>-0.047870</td>\n",
       "      <td>-0.059684</td>\n",
       "      <td>-0.042561</td>\n",
       "      <td>-0.045256</td>\n",
       "      <td>-0.059945</td>\n",
       "      <td>-0.064612</td>\n",
       "      <td>...</td>\n",
       "      <td>-0.082888</td>\n",
       "      <td>-0.092399</td>\n",
       "      <td>-0.088006</td>\n",
       "      <td>-0.071971</td>\n",
       "      <td>-0.053252</td>\n",
       "      <td>-0.068210</td>\n",
       "      <td>-0.056217</td>\n",
       "      <td>-0.036645</td>\n",
       "      <td>-0.054836</td>\n",
       "      <td>135.65</td>\n",
       "    </tr>\n",
       "    <tr>\n",
       "      <th>2000-06-26</th>\n",
       "      <td>-0.003022</td>\n",
       "      <td>-0.006976</td>\n",
       "      <td>0.014630</td>\n",
       "      <td>-0.022409</td>\n",
       "      <td>-0.051014</td>\n",
       "      <td>-0.053869</td>\n",
       "      <td>-0.047740</td>\n",
       "      <td>-0.050147</td>\n",
       "      <td>-0.070324</td>\n",
       "      <td>-0.060638</td>\n",
       "      <td>...</td>\n",
       "      <td>-0.089170</td>\n",
       "      <td>-0.100020</td>\n",
       "      <td>-0.092410</td>\n",
       "      <td>-0.068916</td>\n",
       "      <td>-0.057824</td>\n",
       "      <td>-0.071919</td>\n",
       "      <td>-0.063435</td>\n",
       "      <td>-0.043361</td>\n",
       "      <td>-0.054728</td>\n",
       "      <td>135.24</td>\n",
       "    </tr>\n",
       "    <tr>\n",
       "      <th>...</th>\n",
       "      <td>...</td>\n",
       "      <td>...</td>\n",
       "      <td>...</td>\n",
       "      <td>...</td>\n",
       "      <td>...</td>\n",
       "      <td>...</td>\n",
       "      <td>...</td>\n",
       "      <td>...</td>\n",
       "      <td>...</td>\n",
       "      <td>...</td>\n",
       "      <td>...</td>\n",
       "      <td>...</td>\n",
       "      <td>...</td>\n",
       "      <td>...</td>\n",
       "      <td>...</td>\n",
       "      <td>...</td>\n",
       "      <td>...</td>\n",
       "      <td>...</td>\n",
       "      <td>...</td>\n",
       "      <td>...</td>\n",
       "      <td>...</td>\n",
       "    </tr>\n",
       "    <tr>\n",
       "      <th>2019-06-17</th>\n",
       "      <td>-0.003561</td>\n",
       "      <td>-0.006235</td>\n",
       "      <td>-0.029969</td>\n",
       "      <td>-0.029894</td>\n",
       "      <td>-0.041781</td>\n",
       "      <td>-0.052667</td>\n",
       "      <td>-0.051097</td>\n",
       "      <td>-0.048155</td>\n",
       "      <td>-0.036428</td>\n",
       "      <td>-0.039222</td>\n",
       "      <td>...</td>\n",
       "      <td>-0.058124</td>\n",
       "      <td>-0.060934</td>\n",
       "      <td>-0.048731</td>\n",
       "      <td>-0.042510</td>\n",
       "      <td>-0.041635</td>\n",
       "      <td>-0.060373</td>\n",
       "      <td>-0.069883</td>\n",
       "      <td>-0.070363</td>\n",
       "      <td>-0.082556</td>\n",
       "      <td>125.91</td>\n",
       "    </tr>\n",
       "    <tr>\n",
       "      <th>2019-06-18</th>\n",
       "      <td>0.001588</td>\n",
       "      <td>-0.006617</td>\n",
       "      <td>-0.023614</td>\n",
       "      <td>-0.030818</td>\n",
       "      <td>-0.043317</td>\n",
       "      <td>-0.053868</td>\n",
       "      <td>-0.044476</td>\n",
       "      <td>-0.058881</td>\n",
       "      <td>-0.029400</td>\n",
       "      <td>-0.045561</td>\n",
       "      <td>...</td>\n",
       "      <td>-0.059161</td>\n",
       "      <td>-0.052446</td>\n",
       "      <td>-0.050734</td>\n",
       "      <td>-0.035930</td>\n",
       "      <td>-0.036519</td>\n",
       "      <td>-0.061123</td>\n",
       "      <td>-0.064466</td>\n",
       "      <td>-0.070054</td>\n",
       "      <td>-0.080160</td>\n",
       "      <td>126.11</td>\n",
       "    </tr>\n",
       "    <tr>\n",
       "      <th>2019-06-19</th>\n",
       "      <td>0.008564</td>\n",
       "      <td>-0.000707</td>\n",
       "      <td>-0.011195</td>\n",
       "      <td>-0.023193</td>\n",
       "      <td>-0.032923</td>\n",
       "      <td>-0.048833</td>\n",
       "      <td>-0.046266</td>\n",
       "      <td>-0.053364</td>\n",
       "      <td>-0.023868</td>\n",
       "      <td>-0.036366</td>\n",
       "      <td>...</td>\n",
       "      <td>-0.039350</td>\n",
       "      <td>-0.040872</td>\n",
       "      <td>-0.046552</td>\n",
       "      <td>-0.029158</td>\n",
       "      <td>-0.021766</td>\n",
       "      <td>-0.048478</td>\n",
       "      <td>-0.056174</td>\n",
       "      <td>-0.058828</td>\n",
       "      <td>-0.069909</td>\n",
       "      <td>127.19</td>\n",
       "    </tr>\n",
       "    <tr>\n",
       "      <th>2019-06-20</th>\n",
       "      <td>0.002280</td>\n",
       "      <td>-0.001332</td>\n",
       "      <td>-0.003751</td>\n",
       "      <td>-0.028502</td>\n",
       "      <td>-0.032263</td>\n",
       "      <td>-0.031454</td>\n",
       "      <td>-0.045094</td>\n",
       "      <td>-0.048017</td>\n",
       "      <td>-0.018025</td>\n",
       "      <td>-0.044664</td>\n",
       "      <td>...</td>\n",
       "      <td>-0.039626</td>\n",
       "      <td>-0.033950</td>\n",
       "      <td>-0.040999</td>\n",
       "      <td>-0.038395</td>\n",
       "      <td>-0.018856</td>\n",
       "      <td>-0.046379</td>\n",
       "      <td>-0.055284</td>\n",
       "      <td>-0.049012</td>\n",
       "      <td>-0.067447</td>\n",
       "      <td>127.48</td>\n",
       "    </tr>\n",
       "    <tr>\n",
       "      <th>2019-06-21</th>\n",
       "      <td>0.002902</td>\n",
       "      <td>0.002588</td>\n",
       "      <td>0.000939</td>\n",
       "      <td>-0.024716</td>\n",
       "      <td>-0.030925</td>\n",
       "      <td>-0.024716</td>\n",
       "      <td>-0.045753</td>\n",
       "      <td>-0.039733</td>\n",
       "      <td>-0.011061</td>\n",
       "      <td>-0.039083</td>\n",
       "      <td>...</td>\n",
       "      <td>-0.029822</td>\n",
       "      <td>-0.034366</td>\n",
       "      <td>-0.045112</td>\n",
       "      <td>-0.030705</td>\n",
       "      <td>-0.012741</td>\n",
       "      <td>-0.045183</td>\n",
       "      <td>-0.052752</td>\n",
       "      <td>-0.041748</td>\n",
       "      <td>-0.063370</td>\n",
       "      <td>127.85</td>\n",
       "    </tr>\n",
       "  </tbody>\n",
       "</table>\n",
       "<p>4383 rows × 25 columns</p>\n",
       "</div>"
      ],
      "text/plain": [
       "            BN_close  BN_close  BN_close  BN_close  BN_close  BN_close  \\\n",
       "date                                                                     \n",
       "2000-06-20  0.003662  0.008389  0.016768 -0.026428 -0.044285 -0.048598   \n",
       "2000-06-21 -0.013135 -0.013926  0.010838 -0.040307 -0.056377 -0.061485   \n",
       "2000-06-22  0.010278 -0.005387  0.019171 -0.017616 -0.044011 -0.050191   \n",
       "2000-06-23 -0.007173 -0.005717  0.017706 -0.016102 -0.047870 -0.059684   \n",
       "2000-06-26 -0.003022 -0.006976  0.014630 -0.022409 -0.051014 -0.053869   \n",
       "...              ...       ...       ...       ...       ...       ...   \n",
       "2019-06-17 -0.003561 -0.006235 -0.029969 -0.029894 -0.041781 -0.052667   \n",
       "2019-06-18  0.001588 -0.006617 -0.023614 -0.030818 -0.043317 -0.053868   \n",
       "2019-06-19  0.008564 -0.000707 -0.011195 -0.023193 -0.032923 -0.048833   \n",
       "2019-06-20  0.002280 -0.001332 -0.003751 -0.028502 -0.032263 -0.031454   \n",
       "2019-06-21  0.002902  0.002588  0.000939 -0.024716 -0.030925 -0.024716   \n",
       "\n",
       "            BN_close  BN_close  BN_close  BN_close  ...  BN_close  BN_close  \\\n",
       "date                                                ...                       \n",
       "2000-06-20 -0.034862 -0.042749 -0.048003 -0.063038  ... -0.087495 -0.081193   \n",
       "2000-06-21 -0.049213 -0.049680 -0.067310 -0.072364  ... -0.093930 -0.092410   \n",
       "2000-06-22 -0.037478 -0.041597 -0.058438 -0.062509  ... -0.079747 -0.086698   \n",
       "2000-06-23 -0.042561 -0.045256 -0.059945 -0.064612  ... -0.082888 -0.092399   \n",
       "2000-06-26 -0.047740 -0.050147 -0.070324 -0.060638  ... -0.089170 -0.100020   \n",
       "...              ...       ...       ...       ...  ...       ...       ...   \n",
       "2019-06-17 -0.051097 -0.048155 -0.036428 -0.039222  ... -0.058124 -0.060934   \n",
       "2019-06-18 -0.044476 -0.058881 -0.029400 -0.045561  ... -0.059161 -0.052446   \n",
       "2019-06-19 -0.046266 -0.053364 -0.023868 -0.036366  ... -0.039350 -0.040872   \n",
       "2019-06-20 -0.045094 -0.048017 -0.018025 -0.044664  ... -0.039626 -0.033950   \n",
       "2019-06-21 -0.045753 -0.039733 -0.011061 -0.039083  ... -0.029822 -0.034366   \n",
       "\n",
       "            BN_close  BN_close  BN_close  BN_close  BN_close  BN_close  \\\n",
       "date                                                                     \n",
       "2000-06-20 -0.067882 -0.055157 -0.060984 -0.058856 -0.043217 -0.027602   \n",
       "2000-06-21 -0.086772 -0.075282 -0.066022 -0.068467 -0.051812 -0.033586   \n",
       "2000-06-22 -0.079189 -0.074636 -0.051839 -0.063793 -0.049332 -0.029754   \n",
       "2000-06-23 -0.088006 -0.071971 -0.053252 -0.068210 -0.056217 -0.036645   \n",
       "2000-06-26 -0.092410 -0.068916 -0.057824 -0.071919 -0.063435 -0.043361   \n",
       "...              ...       ...       ...       ...       ...       ...   \n",
       "2019-06-17 -0.048731 -0.042510 -0.041635 -0.060373 -0.069883 -0.070363   \n",
       "2019-06-18 -0.050734 -0.035930 -0.036519 -0.061123 -0.064466 -0.070054   \n",
       "2019-06-19 -0.046552 -0.029158 -0.021766 -0.048478 -0.056174 -0.058828   \n",
       "2019-06-20 -0.040999 -0.038395 -0.018856 -0.046379 -0.055284 -0.049012   \n",
       "2019-06-21 -0.045112 -0.030705 -0.012741 -0.045183 -0.052752 -0.041748   \n",
       "\n",
       "            BN_close  BN_close  \n",
       "date                            \n",
       "2000-06-20 -0.046479    137.04  \n",
       "2000-06-21 -0.053538    135.24  \n",
       "2000-06-22 -0.048736    136.63  \n",
       "2000-06-23 -0.054836    135.65  \n",
       "2000-06-26 -0.054728    135.24  \n",
       "...              ...       ...  \n",
       "2019-06-17 -0.082556    125.91  \n",
       "2019-06-18 -0.080160    126.11  \n",
       "2019-06-19 -0.069909    127.19  \n",
       "2019-06-20 -0.067447    127.48  \n",
       "2019-06-21 -0.063370    127.85  \n",
       "\n",
       "[4383 rows x 25 columns]"
      ]
     },
     "execution_count": 55,
     "metadata": {},
     "output_type": "execute_result"
    }
   ],
   "source": [
    "timeseries_to_supervised(close_df.iloc[1:,1]).dropna()"
   ]
  },
  {
   "cell_type": "code",
   "execution_count": 56,
   "metadata": {},
   "outputs": [
    {
     "data": {
      "text/plain": [
       "date\n",
       "2000-06-20    0.027836\n",
       "2000-06-21    0.018233\n",
       "2000-06-22    0.019840\n",
       "2000-06-23   -0.001021\n",
       "2000-06-26    0.020419\n",
       "                ...   \n",
       "2019-06-17   -0.021606\n",
       "2019-06-18   -0.027605\n",
       "2019-06-19   -0.026691\n",
       "2019-06-20   -0.023466\n",
       "2019-06-21   -0.011396\n",
       "Name: AN_close, Length: 4383, dtype: float64"
      ]
     },
     "execution_count": 56,
     "metadata": {},
     "output_type": "execute_result"
    }
   ],
   "source": [
    "close_df.iloc[:,0].shift(1).pct_change(30)['2000-06-20':]"
   ]
  },
  {
   "cell_type": "code",
   "execution_count": 47,
   "metadata": {},
   "outputs": [
    {
     "data": {
      "text/plain": [
       "54"
      ]
     },
     "execution_count": 47,
     "metadata": {},
     "output_type": "execute_result"
    }
   ],
   "source": [
    "len(close_df.columns)"
   ]
  },
  {
   "cell_type": "code",
   "execution_count": 48,
   "metadata": {},
   "outputs": [
    {
     "data": {
      "text/plain": [
       "232299"
      ]
     },
     "execution_count": 48,
     "metadata": {},
     "output_type": "execute_result"
    }
   ],
   "source": [
    "4383 * 53"
   ]
  },
  {
   "cell_type": "code",
   "execution_count": 65,
   "metadata": {},
   "outputs": [
    {
     "name": "stdout",
     "output_type": "stream",
     "text": [
      "(54, 4383, 25) (54, 4383)\n"
     ]
    }
   ],
   "source": [
    "X = []\n",
    "y = []\n",
    "\n",
    "\n",
    "\n",
    "for column in close_df.columns:\n",
    "    X.append(timeseries_to_supervised(close_df.iloc[1:,1]).dropna().to_numpy())\n",
    "    y.append(close_df.iloc[:,0].shift(1).pct_change(30)['2000-06-20':].to_numpy())   \n",
    "\n",
    "X = np.array(X)\n",
    "y = np.array(y)\n",
    "\n",
    "print(X.shape, y.shape)\n",
    "\n",
    "X = X.reshape((236682, 25))\n",
    "y = y.reshape((236682, 1))\n",
    "\n",
    "merge = pd.DataFrame(X)\n",
    "merge['y'] = y\n",
    "\n",
    "merge = merge.dropna()\n",
    "\n",
    "X = merge.drop(['y'], axis=1)\n",
    "y = merge['y']"
   ]
  },
  {
   "cell_type": "code",
   "execution_count": 112,
   "metadata": {},
   "outputs": [
    {
     "data": {
      "text/plain": [
       "0.027835587929240457"
      ]
     },
     "execution_count": 112,
     "metadata": {},
     "output_type": "execute_result"
    }
   ],
   "source": [
    "y[0]"
   ]
  },
  {
   "cell_type": "code",
   "execution_count": 67,
   "metadata": {},
   "outputs": [],
   "source": [
    "split_time = 20000\n",
    "\n",
    "# X = tf.keras.utils.normalize(X)\n",
    "# y = tf.keras.utils.normalize(y)\n",
    "\n",
    "X_train = X[30:split_time]\n",
    "y_train = y[30:split_time]\n",
    "\n",
    "X_test = X[split_time:]\n",
    "y_test = y[split_time:]"
   ]
  },
  {
   "cell_type": "code",
   "execution_count": 79,
   "metadata": {},
   "outputs": [],
   "source": [
    "X_train_norm = (X_train - X_train.mean()) / X_train.std()\n",
    "X_test_norm = (X_test- X_train.mean()) / X_train.std()"
   ]
  },
  {
   "cell_type": "code",
   "execution_count": 100,
   "metadata": {},
   "outputs": [],
   "source": [
    "model = Sequential()\n",
    "\n",
    "units = 7\n",
    "\n",
    "model.add(Lambda(lambda x: tf.expand_dims(x, axis=-1), input_shape=[None]))\n",
    "\n",
    "model.add(LSTM(units, return_sequences=True))\n",
    "#model.add(LSTM(units, return_sequences=True))\n",
    "model.add(LSTM(units))\n",
    "\n",
    "model.add(Dense(32, activation='relu'))\n",
    "model.add(Dense(16, activation='relu'))\n",
    "model.add(Dense(5, activation='relu'))\n",
    "\n",
    "model.add(Dense(1, activation='tanh'))"
   ]
  },
  {
   "cell_type": "code",
   "execution_count": 101,
   "metadata": {},
   "outputs": [],
   "source": [
    "adam = tf.keras.optimizers.Adam(learning_rate=0.01)\n",
    "\n",
    "model.compile(loss='mse', optimizer='adam')"
   ]
  },
  {
   "cell_type": "code",
   "execution_count": 102,
   "metadata": {},
   "outputs": [
    {
     "name": "stdout",
     "output_type": "stream",
     "text": [
      "Train on 19970 samples, validate on 216682 samples\n",
      "Epoch 1/20\n",
      "19970/19970 [==============================] - 49s 2ms/step - loss: 0.0017 - val_loss: 0.0014TA: 3s - loss: 0.001 - \n",
      "Epoch 2/20\n",
      "19970/19970 [==============================] - 50s 2ms/step - loss: 0.0014 - val_loss: 0.0013\n",
      "Epoch 3/20\n",
      "19970/19970 [==============================] - 49s 2ms/step - loss: 0.0012 - val_loss: 0.0011\n",
      "Epoch 4/20\n",
      "19970/19970 [==============================] - 47s 2ms/step - loss: 0.0010 - val_loss: 9.2022e-04\n",
      "Epoch 5/20\n",
      "19970/19970 [==============================] - 47s 2ms/step - loss: 9.4180e-04 - val_loss: 9.1222e-04\n",
      "Epoch 6/20\n",
      "19970/19970 [==============================] - 47s 2ms/step - loss: 8.9157e-04 - val_loss: 8.1596e-04\n",
      "Epoch 7/20\n",
      "19970/19970 [==============================] - 49s 2ms/step - loss: 8.5456e-04 - val_loss: 8.0025e-04\n",
      "Epoch 8/20\n",
      "19970/19970 [==============================] - 52s 3ms/step - loss: 8.2017e-04 - val_loss: 7.7819e-04\n",
      "Epoch 9/20\n",
      "19970/19970 [==============================] - 45s 2ms/step - loss: 7.7500e-04 - val_loss: 7.4425e-04\n",
      "Epoch 10/20\n",
      "19970/19970 [==============================] - 44s 2ms/step - loss: 7.6318e-04 - val_loss: 7.4120e-04\n",
      "Epoch 11/20\n",
      "19970/19970 [==============================] - 43s 2ms/step - loss: 7.2122e-04 - val_loss: 6.4661e-04\n",
      "Epoch 12/20\n",
      "19970/19970 [==============================] - 47s 2ms/step - loss: 6.8485e-04 - val_loss: 6.3420e-04\n",
      "Epoch 13/20\n",
      "19970/19970 [==============================] - 48s 2ms/step - loss: 6.5935e-04 - val_loss: 6.4408e-04\n",
      "Epoch 14/20\n",
      "19970/19970 [==============================] - 40s 2ms/step - loss: 6.4309e-04 - val_loss: 6.3898e-04\n",
      "Epoch 15/20\n",
      "19970/19970 [==============================] - 48s 2ms/step - loss: 6.1307e-04 - val_loss: 5.7159e-04\n",
      "Epoch 16/20\n",
      "19970/19970 [==============================] - 47s 2ms/step - loss: 5.9891e-04 - val_loss: 5.7317e-04\n",
      "Epoch 17/20\n",
      "19970/19970 [==============================] - 45s 2ms/step - loss: 5.7579e-04 - val_loss: 5.5730e-04\n",
      "Epoch 18/20\n",
      "19970/19970 [==============================] - 47s 2ms/step - loss: 5.7963e-04 - val_loss: 5.4397e-04\n",
      "Epoch 19/20\n",
      "19970/19970 [==============================] - 51s 3ms/step - loss: 5.5245e-04 - val_loss: 4.9939e-04\n",
      "Epoch 20/20\n",
      "19970/19970 [==============================] - 51s 3ms/step - loss: 5.4488e-04 - val_loss: 5.4347e-04\n"
     ]
    }
   ],
   "source": [
    "history = model.fit(X_train_norm, y_train, validation_data=(X_test_norm, y_test), epochs=20)"
   ]
  },
  {
   "cell_type": "code",
   "execution_count": 104,
   "metadata": {},
   "outputs": [
    {
     "name": "stdout",
     "output_type": "stream",
     "text": [
      "dict_keys(['val_loss', 'loss'])\n"
     ]
    },
    {
     "data": {
      "image/png": "[encoded data removed]",
      "text/plain": [
       "<Figure size 432x288 with 1 Axes>"
      ]
     },
     "metadata": {
      "needs_background": "light"
     },
     "output_type": "display_data"
    }
   ],
   "source": [
    "import matplotlib.pyplot as plt\n",
    "\n",
    "print(history.history.keys())\n",
    "\n",
    "# summarize history for loss\n",
    "plt.plot(history.history['loss'])\n",
    "plt.plot(history.history['val_loss'])\n",
    "plt.title('LSTM loss')\n",
    "plt.ylabel('loss')\n",
    "plt.xlabel('epoch')\n",
    "plt.legend(['train', 'test'], loc='upper left')\n",
    "plt.show()"
   ]
  },
  {
   "cell_type": "code",
   "execution_count": 90,
   "metadata": {},
   "outputs": [],
   "source": [
    "y_hat = model.predict(X_test_norm)"
   ]
  },
  {
   "cell_type": "code",
   "execution_count": 105,
   "metadata": {},
   "outputs": [],
   "source": [
    "import seaborn as sns"
   ]
  },
  {
   "cell_type": "code",
   "execution_count": 106,
   "metadata": {},
   "outputs": [
    {
     "name": "stderr",
     "output_type": "stream",
     "text": [
      "C:\\Users\\lucas\\anaconda3\\envs\\quant\\lib\\site-packages\\seaborn\\distributions.py:2551: FutureWarning: `distplot` is a deprecated function and will be removed in a future version. Please adapt your code to use either `displot` (a figure-level function with similar flexibility) or `histplot` (an axes-level function for histograms).\n",
      "  warnings.warn(msg, FutureWarning)\n"
     ]
    },
    {
     "data": {
      "text/plain": [
       "<AxesSubplot:ylabel='Density'>"
      ]
     },
     "execution_count": 106,
     "metadata": {},
     "output_type": "execute_result"
    },
    {
     "data": {
      "image/png": "[encoded data removed]",
      "text/plain": [
       "<Figure size 432x288 with 1 Axes>"
      ]
     },
     "metadata": {
      "needs_background": "light"
     },
     "output_type": "display_data"
    }
   ],
   "source": [
    "sns.distplot(y_hat)"
   ]
  },
  {
   "cell_type": "code",
   "execution_count": 107,
   "metadata": {},
   "outputs": [
    {
     "name": "stderr",
     "output_type": "stream",
     "text": [
      "C:\\Users\\lucas\\anaconda3\\envs\\quant\\lib\\site-packages\\seaborn\\distributions.py:2551: FutureWarning: `distplot` is a deprecated function and will be removed in a future version. Please adapt your code to use either `displot` (a figure-level function with similar flexibility) or `histplot` (an axes-level function for histograms).\n",
      "  warnings.warn(msg, FutureWarning)\n"
     ]
    },
    {
     "data": {
      "text/plain": [
       "<AxesSubplot:xlabel='y', ylabel='Density'>"
      ]
     },
     "execution_count": 107,
     "metadata": {},
     "output_type": "execute_result"
    },
    {
     "data": {
      "image/png": "[encoded data removed]",
      "text/plain": [
       "<Figure size 432x288 with 1 Axes>"
      ]
     },
     "metadata": {
      "needs_background": "light"
     },
     "output_type": "display_data"
    }
   ],
   "source": [
    "sns.distplot(y_test)"
   ]
  },
  {
   "cell_type": "code",
   "execution_count": 94,
   "metadata": {},
   "outputs": [],
   "source": [
    "from sklearn.metrics import r2_score, mean_absolute_error"
   ]
  },
  {
   "cell_type": "code",
   "execution_count": 93,
   "metadata": {},
   "outputs": [
    {
     "data": {
      "text/plain": [
       "0.5177355331666134"
      ]
     },
     "execution_count": 93,
     "metadata": {},
     "output_type": "execute_result"
    }
   ],
   "source": [
    "r2_score(y_test, y_hat)"
   ]
  },
  {
   "cell_type": "code",
   "execution_count": 95,
   "metadata": {},
   "outputs": [
    {
     "data": {
      "text/plain": [
       "0.02396129951831281"
      ]
     },
     "execution_count": 95,
     "metadata": {},
     "output_type": "execute_result"
    }
   ],
   "source": [
    "mean_absolute_error(y_test, y_hat)"
   ]
  },
  {
   "cell_type": "code",
   "execution_count": null,
   "metadata": {},
   "outputs": [],
   "source": []
  }
 ],
 "metadata": {
  "kernelspec": {
   "display_name": "Python 3",
   "language": "python",
   "name": "python3"
  },
  "language_info": {
   "codemirror_mode": {
    "name": "ipython",
    "version": 3
   },
   "file_extension": ".py",
   "mimetype": "text/x-python",
   "name": "python",
   "nbconvert_exporter": "python",
   "pygments_lexer": "ipython3",
   "version": "3.7.9"
  }
 },
 "nbformat": 4,
 "nbformat_minor": 4
}
