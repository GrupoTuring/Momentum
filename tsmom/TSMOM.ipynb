{
 "cells": [
  {
   "cell_type": "markdown",
   "metadata": {},
   "source": [
    "# Imports"
   ]
  },
  {
   "cell_type": "code",
   "execution_count": 1,
   "metadata": {},
   "outputs": [],
   "source": [
    "from data import get_main_data\n",
    "from tsmom import momentum, tsmom_return, tsmom_dates, momentum2\n",
    "from utils import accumulated_return\n",
    "import pandas as pd\n",
    "import matplotlib.pyplot as plt"
   ]
  },
  {
   "cell_type": "markdown",
   "metadata": {},
   "source": [
    "# Getting Data\n",
    "\n",
    "Data is a list of dataframes.\n",
    "\n",
    "Each dataframe could contain multiple information for each asset:\n",
    "* close price\n",
    "* open price\n",
    "* volume\n",
    "* ...\n",
    "\n",
    "But for the purpose of this project, we will only focus on closing price.\n",
    "\n",
    "For more information check data.py file"
   ]
  },
  {
   "cell_type": "code",
   "execution_count": 2,
   "metadata": {},
   "outputs": [],
   "source": [
    "df = pd.read_csv('../tsmom_data.csv')\n",
    "df.index = pd.to_datetime(df['date'], format='%Y-%m-%d')\n",
    "df = df.drop('date', axis=1)"
   ]
  },
  {
   "cell_type": "code",
   "execution_count": 3,
   "metadata": {
    "scrolled": false
   },
   "outputs": [
    {
     "data": {
      "text/html": [
       "<div>\n",
       "<style scoped>\n",
       "    .dataframe tbody tr th:only-of-type {\n",
       "        vertical-align: middle;\n",
       "    }\n",
       "\n",
       "    .dataframe tbody tr th {\n",
       "        vertical-align: top;\n",
       "    }\n",
       "\n",
       "    .dataframe thead th {\n",
       "        text-align: right;\n",
       "    }\n",
       "</style>\n",
       "<table border=\"1\" class=\"dataframe\">\n",
       "  <thead>\n",
       "    <tr style=\"text-align: right;\">\n",
       "      <th></th>\n",
       "      <th>AN</th>\n",
       "      <th>BN</th>\n",
       "      <th>CC</th>\n",
       "      <th>CN</th>\n",
       "      <th>CT</th>\n",
       "      <th>DA</th>\n",
       "      <th>DX</th>\n",
       "      <th>EC</th>\n",
       "      <th>EN</th>\n",
       "      <th>ES</th>\n",
       "      <th>...</th>\n",
       "      <th>ZU</th>\n",
       "      <th>ZW</th>\n",
       "      <th>ZZ</th>\n",
       "      <th>DT</th>\n",
       "      <th>HS</th>\n",
       "      <th>LX</th>\n",
       "      <th>NK</th>\n",
       "      <th>SP</th>\n",
       "      <th>UB</th>\n",
       "      <th>AX</th>\n",
       "    </tr>\n",
       "    <tr>\n",
       "      <th>date</th>\n",
       "      <th></th>\n",
       "      <th></th>\n",
       "      <th></th>\n",
       "      <th></th>\n",
       "      <th></th>\n",
       "      <th></th>\n",
       "      <th></th>\n",
       "      <th></th>\n",
       "      <th></th>\n",
       "      <th></th>\n",
       "      <th></th>\n",
       "      <th></th>\n",
       "      <th></th>\n",
       "      <th></th>\n",
       "      <th></th>\n",
       "      <th></th>\n",
       "      <th></th>\n",
       "      <th></th>\n",
       "      <th></th>\n",
       "      <th></th>\n",
       "      <th></th>\n",
       "    </tr>\n",
       "  </thead>\n",
       "  <tbody>\n",
       "    <tr>\n",
       "      <th>2019-06-17</th>\n",
       "      <td>68.69</td>\n",
       "      <td>125.91</td>\n",
       "      <td>2479.0</td>\n",
       "      <td>74.680</td>\n",
       "      <td>66.42</td>\n",
       "      <td>16.84</td>\n",
       "      <td>97.050</td>\n",
       "      <td>97.900</td>\n",
       "      <td>7561.25</td>\n",
       "      <td>2896.25</td>\n",
       "      <td>...</td>\n",
       "      <td>52.17</td>\n",
       "      <td>539.50</td>\n",
       "      <td>83.050</td>\n",
       "      <td>171.58</td>\n",
       "      <td>26975.0</td>\n",
       "      <td>7292.5</td>\n",
       "      <td>21095.0</td>\n",
       "      <td>2896.3</td>\n",
       "      <td>134.11</td>\n",
       "      <td>12082.0</td>\n",
       "    </tr>\n",
       "    <tr>\n",
       "      <th>2019-06-18</th>\n",
       "      <td>68.92</td>\n",
       "      <td>126.11</td>\n",
       "      <td>2500.0</td>\n",
       "      <td>74.865</td>\n",
       "      <td>66.82</td>\n",
       "      <td>16.86</td>\n",
       "      <td>97.155</td>\n",
       "      <td>97.900</td>\n",
       "      <td>7673.50</td>\n",
       "      <td>2926.25</td>\n",
       "      <td>...</td>\n",
       "      <td>54.11</td>\n",
       "      <td>531.50</td>\n",
       "      <td>81.475</td>\n",
       "      <td>172.76</td>\n",
       "      <td>27269.0</td>\n",
       "      <td>7386.0</td>\n",
       "      <td>21210.0</td>\n",
       "      <td>2926.2</td>\n",
       "      <td>134.61</td>\n",
       "      <td>12321.5</td>\n",
       "    </tr>\n",
       "    <tr>\n",
       "      <th>2019-06-19</th>\n",
       "      <td>69.08</td>\n",
       "      <td>127.19</td>\n",
       "      <td>2513.0</td>\n",
       "      <td>75.375</td>\n",
       "      <td>67.16</td>\n",
       "      <td>16.98</td>\n",
       "      <td>96.580</td>\n",
       "      <td>97.995</td>\n",
       "      <td>7702.00</td>\n",
       "      <td>2933.50</td>\n",
       "      <td>...</td>\n",
       "      <td>53.97</td>\n",
       "      <td>522.25</td>\n",
       "      <td>81.625</td>\n",
       "      <td>172.53</td>\n",
       "      <td>27968.0</td>\n",
       "      <td>7331.5</td>\n",
       "      <td>21310.0</td>\n",
       "      <td>2933.4</td>\n",
       "      <td>134.45</td>\n",
       "      <td>12298.0</td>\n",
       "    </tr>\n",
       "    <tr>\n",
       "      <th>2019-06-20</th>\n",
       "      <td>69.40</td>\n",
       "      <td>127.48</td>\n",
       "      <td>2446.0</td>\n",
       "      <td>75.925</td>\n",
       "      <td>65.96</td>\n",
       "      <td>17.18</td>\n",
       "      <td>96.140</td>\n",
       "      <td>98.045</td>\n",
       "      <td>7772.75</td>\n",
       "      <td>2960.00</td>\n",
       "      <td>...</td>\n",
       "      <td>57.07</td>\n",
       "      <td>526.50</td>\n",
       "      <td>79.250</td>\n",
       "      <td>172.59</td>\n",
       "      <td>28338.0</td>\n",
       "      <td>7363.5</td>\n",
       "      <td>21460.0</td>\n",
       "      <td>2960.0</td>\n",
       "      <td>134.43</td>\n",
       "      <td>12361.5</td>\n",
       "    </tr>\n",
       "    <tr>\n",
       "      <th>2019-06-21</th>\n",
       "      <td>69.44</td>\n",
       "      <td>127.85</td>\n",
       "      <td>2502.0</td>\n",
       "      <td>75.830</td>\n",
       "      <td>65.56</td>\n",
       "      <td>17.09</td>\n",
       "      <td>95.720</td>\n",
       "      <td>98.015</td>\n",
       "      <td>7751.50</td>\n",
       "      <td>2950.50</td>\n",
       "      <td>...</td>\n",
       "      <td>57.43</td>\n",
       "      <td>526.00</td>\n",
       "      <td>76.250</td>\n",
       "      <td>172.08</td>\n",
       "      <td>28255.0</td>\n",
       "      <td>7318.0</td>\n",
       "      <td>21190.0</td>\n",
       "      <td>2950.6</td>\n",
       "      <td>134.26</td>\n",
       "      <td>12270.0</td>\n",
       "    </tr>\n",
       "  </tbody>\n",
       "</table>\n",
       "<p>5 rows × 54 columns</p>\n",
       "</div>"
      ],
      "text/plain": [
       "               AN      BN      CC      CN     CT     DA      DX      EC  \\\n",
       "date                                                                      \n",
       "2019-06-17  68.69  125.91  2479.0  74.680  66.42  16.84  97.050  97.900   \n",
       "2019-06-18  68.92  126.11  2500.0  74.865  66.82  16.86  97.155  97.900   \n",
       "2019-06-19  69.08  127.19  2513.0  75.375  67.16  16.98  96.580  97.995   \n",
       "2019-06-20  69.40  127.48  2446.0  75.925  65.96  17.18  96.140  98.045   \n",
       "2019-06-21  69.44  127.85  2502.0  75.830  65.56  17.09  95.720  98.015   \n",
       "\n",
       "                 EN       ES   ...        ZU      ZW      ZZ      DT       HS  \\\n",
       "date                           ...                                              \n",
       "2019-06-17  7561.25  2896.25   ...     52.17  539.50  83.050  171.58  26975.0   \n",
       "2019-06-18  7673.50  2926.25   ...     54.11  531.50  81.475  172.76  27269.0   \n",
       "2019-06-19  7702.00  2933.50   ...     53.97  522.25  81.625  172.53  27968.0   \n",
       "2019-06-20  7772.75  2960.00   ...     57.07  526.50  79.250  172.59  28338.0   \n",
       "2019-06-21  7751.50  2950.50   ...     57.43  526.00  76.250  172.08  28255.0   \n",
       "\n",
       "                LX       NK      SP      UB       AX  \n",
       "date                                                  \n",
       "2019-06-17  7292.5  21095.0  2896.3  134.11  12082.0  \n",
       "2019-06-18  7386.0  21210.0  2926.2  134.61  12321.5  \n",
       "2019-06-19  7331.5  21310.0  2933.4  134.45  12298.0  \n",
       "2019-06-20  7363.5  21460.0  2960.0  134.43  12361.5  \n",
       "2019-06-21  7318.0  21190.0  2950.6  134.26  12270.0  \n",
       "\n",
       "[5 rows x 54 columns]"
      ]
     },
     "execution_count": 3,
     "metadata": {},
     "output_type": "execute_result"
    }
   ],
   "source": [
    "df.tail()"
   ]
  },
  {
   "cell_type": "code",
   "execution_count": 4,
   "metadata": {},
   "outputs": [],
   "source": [
    "date_range = tsmom_dates(df)"
   ]
  },
  {
   "cell_type": "code",
   "execution_count": 5,
   "metadata": {
    "scrolled": true
   },
   "outputs": [
    {
     "data": {
      "text/plain": [
       "228"
      ]
     },
     "execution_count": 5,
     "metadata": {},
     "output_type": "execute_result"
    }
   ],
   "source": [
    "len(date_range)"
   ]
  },
  {
   "cell_type": "markdown",
   "metadata": {},
   "source": [
    "# Applying Momentum Strategy"
   ]
  },
  {
   "cell_type": "code",
   "execution_count": 6,
   "metadata": {},
   "outputs": [],
   "source": [
    "assets_return = momentum2(df, dates=date_range) # momentum strategy\n",
    "assets_long_only_return = momentum2(df, long_only=True, dates=date_range) # long only strategy"
   ]
  },
  {
   "cell_type": "code",
   "execution_count": 7,
   "metadata": {},
   "outputs": [
    {
     "data": {
      "text/plain": [
       "(227,)"
      ]
     },
     "execution_count": 7,
     "metadata": {},
     "output_type": "execute_result"
    }
   ],
   "source": [
    "assets_return['AN'].shape"
   ]
  },
  {
   "cell_type": "code",
   "execution_count": 8,
   "metadata": {},
   "outputs": [],
   "source": [
    "total_tsmom = tsmom_return(assets_return)\n",
    "total_long_only = tsmom_return(assets_long_only_return)"
   ]
  },
  {
   "cell_type": "code",
   "execution_count": 9,
   "metadata": {},
   "outputs": [
    {
     "data": {
      "text/plain": [
       "227"
      ]
     },
     "execution_count": 9,
     "metadata": {},
     "output_type": "execute_result"
    }
   ],
   "source": [
    "len(total_tsmom)"
   ]
  },
  {
   "cell_type": "code",
   "execution_count": 10,
   "metadata": {},
   "outputs": [],
   "source": [
    "#long_only_AN = accumulated_return(asset_return_long_only)\n",
    "tsmom_accumulated_return = accumulated_return(total_tsmom)\n",
    "long_only_accumulated_return = accumulated_return(total_long_only)"
   ]
  },
  {
   "cell_type": "markdown",
   "metadata": {},
   "source": [
    "# Visualization"
   ]
  },
  {
   "cell_type": "code",
   "execution_count": 13,
   "metadata": {},
   "outputs": [],
   "source": [
    "def plot_return(r1, r2):\n",
    "    r = pd.DataFrame()\n",
    "    r['returns'] = r1\n",
    "    r.index = date_range[1:]\n",
    "    \n",
    "    rl = pd.DataFrame()\n",
    "    rl['returns'] = r2\n",
    "    rl.index = date_range[1:]\n",
    "    \n",
    "    plt.figure(figsize=(16,9))\n",
    "    plt.plot(r, label=\"TSMOM\", color=\"blue\")\n",
    "    plt.plot(rl, label=\"long only\", color=\"red\")\n",
    "\n",
    "    plt.legend()\n",
    "    #plt.title('Cumulative Excess Return of TSMOM and Diversified Passive Long')\n",
    "    plt.show()"
   ]
  },
  {
   "cell_type": "code",
   "execution_count": 14,
   "metadata": {},
   "outputs": [
    {
     "data": {
      "image/png": "[encoded data removed]",
      "text/plain": [
       "<Figure size 1152x648 with 1 Axes>"
      ]
     },
     "metadata": {},
     "output_type": "display_data"
    }
   ],
   "source": [
    "plot_return(\n",
    "    tsmom_accumulated_return,\n",
    "    long_only_accumulated_return\n",
    ")"
   ]
  },
  {
   "cell_type": "code",
   "execution_count": null,
   "metadata": {},
   "outputs": [],
   "source": [
    "plot_return(\n",
    "    total_tsmom,\n",
    "    total_long_only\n",
    ")"
   ]
  }
 ],
 "metadata": {
  "kernelspec": {
   "display_name": ".quantenv",
   "language": "python",
   "name": ".quantenv"
  },
  "language_info": {
   "codemirror_mode": {
    "name": "ipython",
    "version": 3
   },
   "file_extension": ".py",
   "mimetype": "text/x-python",
   "name": "python",
   "nbconvert_exporter": "python",
   "pygments_lexer": "ipython3",
   "version": "3.6.5"
  }
 },
 "nbformat": 4,
 "nbformat_minor": 2
}
